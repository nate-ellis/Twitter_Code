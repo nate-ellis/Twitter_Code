{
 "cells": [
  {
   "cell_type": "code",
   "execution_count": 271,
   "metadata": {},
   "outputs": [],
   "source": [
    "import datetime\n",
    "import sys\n",
    "import pandas as pd\n",
    "import re"
   ]
  },
  {
   "cell_type": "code",
   "execution_count": 463,
   "metadata": {},
   "outputs": [],
   "source": [
    "# Import the necessary package to process data in JSON format\n",
    "\n",
    "try:\n",
    "    import json\n",
    "except ImportError:\n",
    "    import simplejson as json\n",
    "\n",
    "# Import the tweepy library\n",
    "import tweepy\n",
    "\n",
    "# Variables that contains the user credentials to access Twitter API \n",
    "ACCESS_TOKEN = 'XX'\n",
    "ACCESS_SECRET = 'XX'\n",
    "CONSUMER_KEY = 'XX'\n",
    "CONSUMER_SECRET = 'XX'\n",
    "\n",
    "# Setup tweepy to authenticate with Twitter credentials:\n",
    "\n",
    "auth = tweepy.OAuthHandler(CONSUMER_KEY, CONSUMER_SECRET)\n",
    "auth.set_access_token(ACCESS_TOKEN, ACCESS_SECRET)\n",
    "\n",
    "# Create the api to connect to twitter with your creadentials\n",
    "api = tweepy.API(auth, wait_on_rate_limit=False, wait_on_rate_limit_notify=True, compression=True)"
   ]
  },
  {
   "cell_type": "markdown",
   "metadata": {},
   "source": [
    "## Function to Remove Extraneous Twitter Tags and Foreign Characters"
   ]
  },
  {
   "cell_type": "code",
   "execution_count": 276,
   "metadata": {},
   "outputs": [],
   "source": [
    "def remove_chars(text):\n",
    "    \n",
    "    # removes non-alphanumeric and space characters\n",
    "    # replaces multiple spaces with single space\n",
    "    sep = 'https://'\n",
    "    text = text.split(sep, 1)[0]\n",
    "    text = re.sub('[^A-Za-z0-9 ]+', ' ', text)\n",
    "    text = re.sub(' +', ' ', text)\n",
    "    text = re.sub('#', ' ', text)\n",
    "    \n",
    "    return text"
   ]
  },
  {
   "cell_type": "markdown",
   "metadata": {},
   "source": [
    "## Pulls tweets by hashtag"
   ]
  },
  {
   "cell_type": "code",
   "execution_count": 452,
   "metadata": {},
   "outputs": [],
   "source": [
    "tweet_final =pd.DataFrame()"
   ]
  },
  {
   "cell_type": "code",
   "execution_count": 459,
   "metadata": {},
   "outputs": [],
   "source": [
    "\n",
    "hashtag_1 = '#china', '#economy'\n",
    "hashtag_2 = '#russia', '#economy'\n",
    "hashtag_3 = '#russia'\n",
    "hashtag_4 = '#economoy'\n",
    "hashtag_5 = '#china'\n",
    "hashtag_6 = '#trade'\n",
    "hashtag_7 = '#tradewar'\n",
    "hashtag_8 = '#POTUS'\n",
    "hashtag_9 = '@realdonaldtrump'\n",
    "hashtag_10 = '@FoxNews'\n",
    "hashtag_11 = '@Bloomberg'\n",
    "hashtag_12 = '@Reuters'\n",
    "hashtag_list = [hashtag_1, hashtag_2, hashtag_3, hashtag_4, hashtag_5, hashtag_6, hashtag_7, hashtag_8, hashtag_9, hashtag_10, hashtag_11, hashtag_12]\n",
    "tweet_final = pd.DataFrame()\n",
    "\n",
    "#hashtag_3, hashtag_4, hashtag_5, hashtag_6, hashtag_7"
   ]
  },
  {
   "cell_type": "code",
   "execution_count": 434,
   "metadata": {
    "scrolled": true
   },
   "outputs": [
    {
     "name": "stdout",
     "output_type": "stream",
     "text": [
      "#POTUS\n",
      "@realdonaldtrump\n",
      "@FoxNews\n",
      "@Bloomberg\n",
      "@Reuters\n"
     ]
    }
   ],
   "source": [
    "tweets = []\n",
    "time = []\n",
    "hash_tag = []\n",
    "for hashtag in hashtag_list:\n",
    "    print(hashtag)\n",
    "    for tweet_info in tweepy.Cursor(api.search, q= [hashtag], count=20, tweet_mode='extended', lang = 'en').items(1000):\n",
    "        if 'retweeted_status' in dir(tweet_info):\n",
    "            tweet=tweet_info.retweeted_status.full_text\n",
    "            tweets.append(tweet)\n",
    "            time.append(tweet_info.created_at)\n",
    "            hash_tag.append(str(hashtag))\n",
    "        else:\n",
    "            tweet=tweet_info.full_text\n",
    "            tweets.append(tweet)\n",
    "            time.append(tweet_info.created_at)\n",
    "            hash_tag.append(str(hashtag))\n",
    "            \n",
    "    tweet_tot = pd.DataFrame(zip(tweets, time, hash_tag))\n",
    "    tweet_tot.columns = ['tweet', 'date_time', 'hashtag']\n",
    "    \n",
    "tweet_tot.drop_duplicates('tweet', inplace = True)\n",
    "tweet_tot = tweet_tot.reset_index(drop = True)\n",
    "   \n"
   ]
  },
  {
   "cell_type": "markdown",
   "metadata": {},
   "source": [
    "## Strings Tweets together (due to Twitter API timeout)"
   ]
  },
  {
   "cell_type": "code",
   "execution_count": 436,
   "metadata": {},
   "outputs": [],
   "source": [
    "tweet_tot.drop_duplicates('tweet', inplace = True)\n",
    "tweet_tot = tweet_tot.reset_index(drop = True)\n",
    "tweet_tot['removed_char_tweet'] = tweet_tot['tweet'].apply(remove_chars)"
   ]
  },
  {
   "cell_type": "code",
   "execution_count": 413,
   "metadata": {},
   "outputs": [
    {
     "name": "stdout",
     "output_type": "stream",
     "text": [
      "4\n"
     ]
    }
   ],
   "source": [
    "i = i+1\n",
    "print(i)\n",
    "tweet_tot_1 = tweet_tot"
   ]
  },
  {
   "cell_type": "code",
   "execution_count": 429,
   "metadata": {},
   "outputs": [
    {
     "name": "stdout",
     "output_type": "stream",
     "text": [
      "5\n"
     ]
    }
   ],
   "source": [
    "i = i+1\n",
    "print(i)\n",
    "tweet_tot_2 = tweet_tot"
   ]
  },
  {
   "cell_type": "code",
   "execution_count": 437,
   "metadata": {},
   "outputs": [
    {
     "name": "stdout",
     "output_type": "stream",
     "text": [
      "7\n"
     ]
    }
   ],
   "source": [
    "i = i+1\n",
    "print(i)\n",
    "tweet_tot_3 = tweet_tot"
   ]
  },
  {
   "cell_type": "code",
   "execution_count": 460,
   "metadata": {
    "scrolled": false
   },
   "outputs": [
    {
     "data": {
      "text/html": [
       "<div>\n",
       "<style scoped>\n",
       "    .dataframe tbody tr th:only-of-type {\n",
       "        vertical-align: middle;\n",
       "    }\n",
       "\n",
       "    .dataframe tbody tr th {\n",
       "        vertical-align: top;\n",
       "    }\n",
       "\n",
       "    .dataframe thead th {\n",
       "        text-align: right;\n",
       "    }\n",
       "</style>\n",
       "<table border=\"1\" class=\"dataframe\">\n",
       "  <thead>\n",
       "    <tr style=\"text-align: right;\">\n",
       "      <th></th>\n",
       "      <th>tweet</th>\n",
       "      <th>date_time</th>\n",
       "      <th>hashtag</th>\n",
       "      <th>removed_char_tweet</th>\n",
       "    </tr>\n",
       "  </thead>\n",
       "  <tbody>\n",
       "    <tr>\n",
       "      <th>0</th>\n",
       "      <td>News Analysis🔎The overnight bank #Lending rate...</td>\n",
       "      <td>2019-12-18 03:27:22</td>\n",
       "      <td>('#china', '#economy')</td>\n",
       "      <td>News Analysis The overnight bank Lending rates...</td>\n",
       "    </tr>\n",
       "    <tr>\n",
       "      <th>1</th>\n",
       "      <td>A Tough Year for Emerging #Markets Ends With #...</td>\n",
       "      <td>2019-12-18 03:00:27</td>\n",
       "      <td>('#china', '#economy')</td>\n",
       "      <td>A Tough Year for Emerging Markets Ends With Mo...</td>\n",
       "    </tr>\n",
       "    <tr>\n",
       "      <th>2</th>\n",
       "      <td>Which Goods are Most Traded Between U.S. &amp;amp;...</td>\n",
       "      <td>2019-12-18 02:37:50</td>\n",
       "      <td>('#china', '#economy')</td>\n",
       "      <td>Which Goods are Most Traded Between U S amp Ch...</td>\n",
       "    </tr>\n",
       "    <tr>\n",
       "      <th>3</th>\n",
       "      <td>@BTVI @GitaGopinath @imf @Sunanda_J @ETNOWlive...</td>\n",
       "      <td>2019-12-18 02:21:33</td>\n",
       "      <td>('#china', '#economy')</td>\n",
       "      <td>BTVI GitaGopinath imf Sunanda J ETNOWlive Aab...</td>\n",
       "    </tr>\n",
       "    <tr>\n",
       "      <th>4</th>\n",
       "      <td>Merry Christmas To All\\nWishing everyone a Won...</td>\n",
       "      <td>2019-12-18 02:14:44</td>\n",
       "      <td>('#china', '#economy')</td>\n",
       "      <td>Merry Christmas To All Wishing everyone a Wond...</td>\n",
       "    </tr>\n",
       "    <tr>\n",
       "      <th>5</th>\n",
       "      <td>INTERVIEW: What do they think of China’s State...</td>\n",
       "      <td>2019-12-18 01:51:47</td>\n",
       "      <td>('#china', '#economy')</td>\n",
       "      <td>INTERVIEW What do they think of China s State ...</td>\n",
       "    </tr>\n",
       "    <tr>\n",
       "      <th>6</th>\n",
       "      <td>Countries' external debts to #China #debttrap ...</td>\n",
       "      <td>2019-12-18 01:50:05</td>\n",
       "      <td>('#china', '#economy')</td>\n",
       "      <td>Countries external debts to China debttrap eco...</td>\n",
       "    </tr>\n",
       "    <tr>\n",
       "      <th>7</th>\n",
       "      <td>don't fear short term #india slowdown think lo...</td>\n",
       "      <td>2019-12-18 01:16:23</td>\n",
       "      <td>('#china', '#economy')</td>\n",
       "      <td>don t fear short term india slowdown think lon...</td>\n",
       "    </tr>\n",
       "    <tr>\n",
       "      <th>8</th>\n",
       "      <td>Visualizing 30 Years of China’s Unstoppable Ec...</td>\n",
       "      <td>2019-12-18 00:29:43</td>\n",
       "      <td>('#china', '#economy')</td>\n",
       "      <td>Visualizing 30 Years of China s Unstoppable Ec...</td>\n",
       "    </tr>\n",
       "    <tr>\n",
       "      <th>9</th>\n",
       "      <td>#China to Grant More Regular Tariff Waivers fo...</td>\n",
       "      <td>2019-12-18 00:00:51</td>\n",
       "      <td>('#china', '#economy')</td>\n",
       "      <td>China to Grant More Regular Tariff Waivers fo...</td>\n",
       "    </tr>\n",
       "    <tr>\n",
       "      <th>10</th>\n",
       "      <td>Dec 17: US Stocks S&amp;amp;P 500, Dow (DJIA) &amp;amp...</td>\n",
       "      <td>2019-12-17 23:59:46</td>\n",
       "      <td>('#china', '#economy')</td>\n",
       "      <td>Dec 17 US Stocks S amp P 500 Dow DJIA amp NASD...</td>\n",
       "    </tr>\n",
       "    <tr>\n",
       "      <th>11</th>\n",
       "      <td>#China's 30-year Economic growth in perspectiv...</td>\n",
       "      <td>2019-12-17 23:59:18</td>\n",
       "      <td>('#china', '#economy')</td>\n",
       "      <td>China s 30 year Economic growth in perspectiv...</td>\n",
       "    </tr>\n",
       "    <tr>\n",
       "      <th>12</th>\n",
       "      <td>Visualizing 30 Years of China’s Unstoppable Ec...</td>\n",
       "      <td>2019-12-17 23:49:58</td>\n",
       "      <td>('#china', '#economy')</td>\n",
       "      <td>Visualizing 30 Years of China s Unstoppable Ec...</td>\n",
       "    </tr>\n",
       "    <tr>\n",
       "      <th>13</th>\n",
       "      <td>China’s economy has grown 14.12 times in size ...</td>\n",
       "      <td>2019-12-17 22:04:52</td>\n",
       "      <td>('#china', '#economy')</td>\n",
       "      <td>China s economy has grown 14 12 times in size ...</td>\n",
       "    </tr>\n",
       "    <tr>\n",
       "      <th>14</th>\n",
       "      <td>Asian #stocks fail to keep the gains amid rene...</td>\n",
       "      <td>2019-12-17 22:00:29</td>\n",
       "      <td>('#china', '#economy')</td>\n",
       "      <td>Asian stocks fail to keep the gains amid renew...</td>\n",
       "    </tr>\n",
       "    <tr>\n",
       "      <th>15</th>\n",
       "      <td>Antonio Graceffo, Beyond the Belt and Road: Ch...</td>\n",
       "      <td>2019-12-17 20:30:56</td>\n",
       "      <td>('#china', '#economy')</td>\n",
       "      <td>Antonio Graceffo Beyond the Belt and Road Chin...</td>\n",
       "    </tr>\n",
       "    <tr>\n",
       "      <th>16</th>\n",
       "      <td>Trade tensions between #US and #China continue...</td>\n",
       "      <td>2019-12-17 20:05:03</td>\n",
       "      <td>('#china', '#economy')</td>\n",
       "      <td>Trade tensions between US and China continue t...</td>\n",
       "    </tr>\n",
       "    <tr>\n",
       "      <th>17</th>\n",
       "      <td>Good morning.\\n\\nThoughts on what the #China -...</td>\n",
       "      <td>2019-12-17 19:49:55</td>\n",
       "      <td>('#china', '#economy')</td>\n",
       "      <td>Good morning Thoughts on what the China US Tra...</td>\n",
       "    </tr>\n",
       "    <tr>\n",
       "      <th>18</th>\n",
       "      <td>#China #Economy #Growth #Trade #Commerce \\n\\nV...</td>\n",
       "      <td>2019-12-17 18:58:31</td>\n",
       "      <td>('#china', '#economy')</td>\n",
       "      <td>China Economy Growth Trade Commerce Visualizi...</td>\n",
       "    </tr>\n",
       "    <tr>\n",
       "      <th>19</th>\n",
       "      <td>#Corporate #default hotspot tests #China’s app...</td>\n",
       "      <td>2019-12-17 18:02:13</td>\n",
       "      <td>('#china', '#economy')</td>\n",
       "      <td>Corporate default hotspot tests China s appet...</td>\n",
       "    </tr>\n",
       "  </tbody>\n",
       "</table>\n",
       "</div>"
      ],
      "text/plain": [
       "                                                tweet           date_time  \\\n",
       "0   News Analysis🔎The overnight bank #Lending rate... 2019-12-18 03:27:22   \n",
       "1   A Tough Year for Emerging #Markets Ends With #... 2019-12-18 03:00:27   \n",
       "2   Which Goods are Most Traded Between U.S. &amp;... 2019-12-18 02:37:50   \n",
       "3   @BTVI @GitaGopinath @imf @Sunanda_J @ETNOWlive... 2019-12-18 02:21:33   \n",
       "4   Merry Christmas To All\\nWishing everyone a Won... 2019-12-18 02:14:44   \n",
       "5   INTERVIEW: What do they think of China’s State... 2019-12-18 01:51:47   \n",
       "6   Countries' external debts to #China #debttrap ... 2019-12-18 01:50:05   \n",
       "7   don't fear short term #india slowdown think lo... 2019-12-18 01:16:23   \n",
       "8   Visualizing 30 Years of China’s Unstoppable Ec... 2019-12-18 00:29:43   \n",
       "9   #China to Grant More Regular Tariff Waivers fo... 2019-12-18 00:00:51   \n",
       "10  Dec 17: US Stocks S&amp;P 500, Dow (DJIA) &amp... 2019-12-17 23:59:46   \n",
       "11  #China's 30-year Economic growth in perspectiv... 2019-12-17 23:59:18   \n",
       "12  Visualizing 30 Years of China’s Unstoppable Ec... 2019-12-17 23:49:58   \n",
       "13  China’s economy has grown 14.12 times in size ... 2019-12-17 22:04:52   \n",
       "14  Asian #stocks fail to keep the gains amid rene... 2019-12-17 22:00:29   \n",
       "15  Antonio Graceffo, Beyond the Belt and Road: Ch... 2019-12-17 20:30:56   \n",
       "16  Trade tensions between #US and #China continue... 2019-12-17 20:05:03   \n",
       "17  Good morning.\\n\\nThoughts on what the #China -... 2019-12-17 19:49:55   \n",
       "18  #China #Economy #Growth #Trade #Commerce \\n\\nV... 2019-12-17 18:58:31   \n",
       "19  #Corporate #default hotspot tests #China’s app... 2019-12-17 18:02:13   \n",
       "\n",
       "                   hashtag                                 removed_char_tweet  \n",
       "0   ('#china', '#economy')  News Analysis The overnight bank Lending rates...  \n",
       "1   ('#china', '#economy')  A Tough Year for Emerging Markets Ends With Mo...  \n",
       "2   ('#china', '#economy')  Which Goods are Most Traded Between U S amp Ch...  \n",
       "3   ('#china', '#economy')   BTVI GitaGopinath imf Sunanda J ETNOWlive Aab...  \n",
       "4   ('#china', '#economy')  Merry Christmas To All Wishing everyone a Wond...  \n",
       "5   ('#china', '#economy')  INTERVIEW What do they think of China s State ...  \n",
       "6   ('#china', '#economy')  Countries external debts to China debttrap eco...  \n",
       "7   ('#china', '#economy')  don t fear short term india slowdown think lon...  \n",
       "8   ('#china', '#economy')  Visualizing 30 Years of China s Unstoppable Ec...  \n",
       "9   ('#china', '#economy')   China to Grant More Regular Tariff Waivers fo...  \n",
       "10  ('#china', '#economy')  Dec 17 US Stocks S amp P 500 Dow DJIA amp NASD...  \n",
       "11  ('#china', '#economy')   China s 30 year Economic growth in perspectiv...  \n",
       "12  ('#china', '#economy')  Visualizing 30 Years of China s Unstoppable Ec...  \n",
       "13  ('#china', '#economy')  China s economy has grown 14 12 times in size ...  \n",
       "14  ('#china', '#economy')  Asian stocks fail to keep the gains amid renew...  \n",
       "15  ('#china', '#economy')  Antonio Graceffo Beyond the Belt and Road Chin...  \n",
       "16  ('#china', '#economy')  Trade tensions between US and China continue t...  \n",
       "17  ('#china', '#economy')  Good morning Thoughts on what the China US Tra...  \n",
       "18  ('#china', '#economy')   China Economy Growth Trade Commerce Visualizi...  \n",
       "19  ('#china', '#economy')   Corporate default hotspot tests China s appet...  "
      ]
     },
     "execution_count": 460,
     "metadata": {},
     "output_type": "execute_result"
    }
   ],
   "source": [
    "tweet_final = pd.concat([tweet_tot_1, tweet_tot_2,tweet_tot_3], axis = 0)\n",
    "tweet_final = tweet_final.reset_index(drop = True)\n",
    "tweet_final.head(20)"
   ]
  },
  {
   "cell_type": "code",
   "execution_count": 458,
   "metadata": {},
   "outputs": [],
   "source": [
    "tweet_final.to_excel('hastag_tweets.xlsx')"
   ]
  },
  {
   "cell_type": "markdown",
   "metadata": {},
   "source": [
    "## Pulls Tweets by Username"
   ]
  },
  {
   "cell_type": "code",
   "execution_count": 353,
   "metadata": {},
   "outputs": [],
   "source": [
    "hashtag_8 = '@realdonaldtrump'\n",
    "hashtag_9 = '@FoxNews'\n",
    "hashtag_10 = '@Bloomberg'\n",
    "hashtag_11 = '@Reuters'\n",
    "\n",
    "username_list = [hashtag_8, hashtag_9, hashtag_10, hashtag_11]"
   ]
  },
  {
   "cell_type": "code",
   "execution_count": 354,
   "metadata": {
    "scrolled": true
   },
   "outputs": [
    {
     "name": "stdout",
     "output_type": "stream",
     "text": [
      "2019-12-17 23:48:29\n",
      "2018-11-08 19:18:44\n",
      "2018-11-08 17:02:25\n",
      "2018-11-08 15:14:45\n",
      "2018-11-08 14:22:51\n",
      "2018-11-08 13:43:25\n",
      "2018-11-08 13:35:03\n",
      "2018-11-08 13:22:27\n",
      "2018-11-08 12:56:20\n",
      "2018-11-08 12:37:05\n",
      "2018-11-08 12:25:14\n",
      "2018-11-08 12:06:14\n",
      "2018-11-08 11:54:22\n",
      "2018-11-08 11:38:17\n",
      "2018-11-08 11:32:26\n",
      "2018-11-08 11:26:46\n",
      "2018-11-08 11:18:08\n",
      "2018-11-08 11:13:32\n",
      "2018-11-08 11:12:14\n",
      "2018-11-08 10:53:33\n",
      "2018-11-08 10:36:12\n",
      "2019-12-16 12:30:05\n",
      "2019-12-10 12:30:06\n",
      "2019-12-05 18:28:22\n",
      "2019-12-02 18:31:54\n",
      "2019-11-26 14:27:38\n",
      "2019-11-22 18:02:24\n",
      "2019-11-21 02:07:45\n",
      "2019-11-20 14:39:50\n",
      "2019-11-13 15:43:40\n",
      "2019-11-10 13:30:21\n",
      "2019-11-05 16:39:11\n",
      "2019-11-04 19:32:13\n",
      "2019-11-01 15:40:14\n",
      "2019-10-30 18:26:43\n",
      "2019-10-30 11:30:08\n",
      "2019-10-25 15:57:36\n",
      "2019-10-24 14:28:52\n",
      "2019-10-24 11:00:23\n",
      "2019-10-17 20:29:49\n",
      "2019-10-14 12:00:08\n",
      "2019-12-18 03:15:00\n",
      "2019-12-18 03:10:33\n",
      "2019-12-18 03:05:19\n",
      "2019-12-18 03:00:00\n",
      "2019-12-18 02:58:34\n",
      "2019-12-18 02:55:32\n",
      "2019-12-18 02:49:43\n",
      "2019-12-18 02:45:35\n",
      "2019-12-18 02:42:11\n",
      "2019-12-18 02:40:00\n",
      "2019-12-18 02:35:39\n",
      "2019-12-18 02:30:00\n",
      "2019-12-18 02:28:37\n",
      "2019-12-18 02:20:00\n",
      "2019-12-18 02:18:19\n",
      "2019-12-18 02:15:39\n",
      "2019-12-18 02:12:52\n",
      "2019-12-18 02:10:35\n",
      "2019-12-18 02:04:39\n",
      "2019-12-18 02:00:00\n"
     ]
    }
   ],
   "source": [
    "tweets = []\n",
    "user_name = []\n",
    "for user in username_list:\n",
    "    username = user\n",
    "    tmpTweets = api.user_timeline(username)\n",
    "    for tweet in tmpTweets:\n",
    "        print(tweet.created_at)\n",
    "        tweets.append(tweet)\n",
    "        user_name.append(user)\n",
    "    outtweets = [tweet.text for tweet in tweets]\n",
    "    tweet_dates = [tweet.created_at for tweet in tweets]\n",
    "    total_tweets = pd.DataFrame(zip(outtweets, tweet_dates, user_name))\n",
    "total_tweets.columns = ['tweet', 'date_time', 'hashtag']"
   ]
  }
 ],
 "metadata": {
  "kernelspec": {
   "display_name": "Python 3",
   "language": "python",
   "name": "python3"
  },
  "language_info": {
   "codemirror_mode": {
    "name": "ipython",
    "version": 3
   },
   "file_extension": ".py",
   "mimetype": "text/x-python",
   "name": "python",
   "nbconvert_exporter": "python",
   "pygments_lexer": "ipython3",
   "version": "3.7.3"
  }
 },
 "nbformat": 4,
 "nbformat_minor": 2
}
